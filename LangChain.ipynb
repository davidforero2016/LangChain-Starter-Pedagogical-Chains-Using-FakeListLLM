{
  "nbformat": 4,
  "nbformat_minor": 0,
  "metadata": {
    "colab": {
      "provenance": []
    },
    "kernelspec": {
      "name": "python3",
      "display_name": "Python 3"
    },
    "language_info": {
      "name": "python"
    }
  },
  "cells": [
    {
      "cell_type": "code",
      "execution_count": null,
      "metadata": {
        "id": "Sx_8e_8eiyaL"
      },
      "outputs": [],
      "source": [
        "!pip install -U python-dotenv openai langchain langchain-community"
      ]
    },
    {
      "cell_type": "code",
      "source": [
        "#False simulated models to practice.\n",
        "from langchain.prompts import PromptTemplate\n",
        "from langchain.llms.fake import FakeListLLM\n",
        "from langchain.chains import LLMChain"
      ],
      "metadata": {
        "id": "iOxIjDGhN9jA"
      },
      "execution_count": 24,
      "outputs": []
    },
    {
      "cell_type": "code",
      "source": [
        "prompt = PromptTemplate.from_template(\"Tell me something about the today's {weather}\") #template with variable\n",
        "llm = FakeListLLM(responses=[\"You might want to carry an umbrella — clouds are whispering secrets today.\",\n",
        "                             \"Don't forget sunscreen — the sun is feeling extra generous with UV rays.\",\n",
        "                             \"Windy vibes today. Secure your hat and your thoughts!\",\n",
        "                             \"It’s chilly enough to justify that stylish coat you've been avoiding.\",\n",
        "                             \"Expect sudden mood swings from the sky — keep your plans flexible.\"]) #Simulate a correct answer.\n",
        "chain = LLMChain(llm=llm, prompt=prompt) #Chain that unites the LLM and the prompt."
      ],
      "metadata": {
        "id": "hcGCKLnIW28j"
      },
      "execution_count": 25,
      "outputs": []
    },
    {
      "cell_type": "code",
      "source": [
        "print(chain.invoke({\"weather\": \"friendly comment\"}))"
      ],
      "metadata": {
        "id": "ev1eRvjuXsx8"
      },
      "execution_count": null,
      "outputs": []
    }
  ]
}