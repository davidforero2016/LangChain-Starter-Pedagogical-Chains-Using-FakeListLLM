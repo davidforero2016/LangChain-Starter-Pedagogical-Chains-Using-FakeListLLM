!pip install -U python-dotenv openai langchain langchain-community tiktoken

from langchain.prompts import PromptTemplate
from langchain.llms.fake import FakeListLLM
from langchain.chains import LLMChain

#Define the template.
Template=PromptTemplate.from_template("Hi {name}, today the day is {weather}. ¿How do you plan to spend the day?")

#Create the simulated model.
Simulated_model = FakeListLLM(responses=["!Hi, my friend! A sunny day like this deserves a walk with your friends",
                                         "Such a great weather! Maybe you could read in the sun with a lemonade",
                                         "Take advantage of the weather to write something, get inspired!"])

# Create the chain.
Chain = LLMChain(llm=Simulated_model, prompt=Template)

#Answer.
name_from_user = input("How would you like me to call you? ")
weather = "sunny"
if not name_from_user.strip():
    name_from_user = "my friend"
Answer = Chain.invoke({"name": name_from_user, "weather": weather})
print(Answer)
