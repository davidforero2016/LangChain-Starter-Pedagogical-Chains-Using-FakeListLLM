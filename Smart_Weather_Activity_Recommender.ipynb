{
  "nbformat": 4,
  "nbformat_minor": 0,
  "metadata": {
    "colab": {
      "provenance": []
    },
    "kernelspec": {
      "name": "python3",
      "display_name": "Python 3"
    },
    "language_info": {
      "name": "python"
    }
  },
  "cells": [
    {
      "cell_type": "code",
      "source": [
        "!pip install -U python-dotenv openai langchain langchain-community tiktoken"
      ],
      "metadata": {
        "id": "PFqLVjMh3Zew"
      },
      "execution_count": null,
      "outputs": []
    },
    {
      "cell_type": "code",
      "execution_count": 3,
      "metadata": {
        "id": "7k7DE0SCk2Ss"
      },
      "outputs": [],
      "source": [
        "from langchain_core.prompts import PromptTemplate #pormpts\n",
        "from langchain_core.runnables import RunnableLambda, RunnableSequence #personalized functions\n",
        "from langchain_community.llms.fake import FakeListLLM #Simulated LLM"
      ]
    },
    {
      "cell_type": "code",
      "source": [
        "multi_prompt=PromptTemplate.from_template(\n",
        "    \"¿What is the weather like in {city} during the {time_of_day}?\"\n",
        ")"
      ],
      "metadata": {
        "id": "NaCssmBd2mbt"
      },
      "execution_count": 5,
      "outputs": []
    },
    {
      "cell_type": "code",
      "source": [
        "#Model with three possible answers.\n",
        "weather_model=FakeListLLM(\n",
        "    responses=[\"Sunny with wild temperatures.\",\n",
        "              \"Cloudy and humid.\",\n",
        "              \"Heavy rain expected.\",])"
      ],
      "metadata": {
        "id": "FcxX5R153z6_"
      },
      "execution_count": 7,
      "outputs": []
    },
    {
      "cell_type": "code",
      "source": [
        "#First part of the chain (prompt - model - text)\n",
        "weather_chain= multi_prompt | weather_model\n"
      ],
      "metadata": {
        "id": "PJjrpT373lPJ"
      },
      "execution_count": 8,
      "outputs": []
    },
    {
      "cell_type": "code",
      "source": [
        "#Function that recommends and activity depending of the function\n",
        "def suggest_activity(weather_description: str) -> dict:\n",
        "  if \"sunny\" in weather_description.lower():\n",
        "      activity = \"Perfect for a picnic or walk\"\n",
        "  elif \"rain\" in weather_description.lower():\n",
        "      activity = \"Better stay in doors with a book.\"\n",
        "  elif \"cloudy\" in weather_description.lower():\n",
        "      activity = \"Ideal time for a cozy coffeee visit.\"\n",
        "  else:\n",
        "      \"Stay flexible and check the forecast!\"\n",
        "  return {\n",
        "      \"weather\": weather_description,\n",
        "      \"activity\": activity,\n",
        "      }\n"
      ],
      "metadata": {
        "id": "PODdDri25UxH"
      },
      "execution_count": 45,
      "outputs": []
    },
    {
      "cell_type": "code",
      "source": [
        "#Convert a function in a LangChain component\n",
        "activity_chain=RunnableLambda(suggest_activity)"
      ],
      "metadata": {
        "id": "efeunM-oOyUo"
      },
      "execution_count": 46,
      "outputs": []
    },
    {
      "cell_type": "code",
      "source": [
        "#unite both parties in a flow\n",
        "full_chain= weather_chain | activity_chain"
      ],
      "metadata": {
        "id": "0m6tUeVTPH2n"
      },
      "execution_count": 47,
      "outputs": []
    },
    {
      "cell_type": "code",
      "source": [
        "#Run the flow with multiple inputs\n",
        "result = full_chain.invoke({\n",
        "    \"city\": \"Toronto\",\n",
        "    \"time_of_day\": \"morning\"\n",
        "})\n",
        "\n",
        "print(result)"
      ],
      "metadata": {
        "id": "T-N2DqcaPgEe"
      },
      "execution_count": null,
      "outputs": []
    }
  ]
}